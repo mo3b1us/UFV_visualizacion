{
  "nbformat": 4,
  "nbformat_minor": 0,
  "metadata": {
    "colab": {
      "provenance": [],
      "authorship_tag": "ABX9TyPYH3BbOtnwyHwAl/fBIOg7",
      "include_colab_link": true
    },
    "kernelspec": {
      "name": "python3",
      "display_name": "Python 3"
    },
    "language_info": {
      "name": "python"
    }
  },
  "cells": [
    {
      "cell_type": "markdown",
      "metadata": {
        "id": "view-in-github",
        "colab_type": "text"
      },
      "source": [
        "<a href=\"https://colab.research.google.com/github/mo3b1us/UFV_visualizacion/blob/main/VisualizacionDatos_11_10_2024.ipynb\" target=\"_parent\"><img src=\"https://colab.research.google.com/assets/colab-badge.svg\" alt=\"Open In Colab\"/></a>"
      ]
    },
    {
      "cell_type": "markdown",
      "source": [
        "# **Gráficos en Python**"
      ],
      "metadata": {
        "id": "u6mV_Y4hQ0Ow"
      }
    },
    {
      "cell_type": "markdown",
      "source": [
        "Importamos la librería Plotly Express"
      ],
      "metadata": {
        "id": "Rc936ewPTLiP"
      }
    },
    {
      "cell_type": "code",
      "execution_count": null,
      "metadata": {
        "id": "KW8bHUbLOkks"
      },
      "outputs": [],
      "source": [
        "import plotly.express as px"
      ]
    },
    {
      "cell_type": "markdown",
      "source": [],
      "metadata": {
        "id": "PKY_LfCnTieH"
      }
    },
    {
      "cell_type": "code",
      "source": [],
      "metadata": {
        "id": "Io3FZ5F9TiCC"
      },
      "execution_count": null,
      "outputs": []
    }
  ]
}
